{
 "cells": [
  {
   "cell_type": "code",
   "execution_count": 1,
   "metadata": {},
   "outputs": [],
   "source": [
    "import numpy as np\n",
    "import matplotlib as plt"
   ]
  },
  {
   "cell_type": "code",
   "execution_count": 3,
   "metadata": {},
   "outputs": [
    {
     "name": "stdout",
     "output_type": "stream",
     "text": [
      "[-0.49304356 -0.14468335 -0.4810091   0.48464937 -0.15643831  0.35417394\n",
      " -0.46111339  0.34199871  0.42772244 -0.33573245  0.34648946  0.27165725\n",
      " -0.31846315  0.34484619  0.21071627 -0.09870561  0.41535137 -0.00823353\n",
      "  0.36265536  0.30720047 -0.30460956 -0.31801122 -0.43559977 -0.40199533\n",
      "  0.36064436  0.49721909  0.23810186 -0.45668646  0.27007116  0.07799751\n",
      " -0.04563967  0.34964697 -0.15258472 -0.10844748  0.0715707  -0.39700063\n",
      "  0.22446232 -0.24479689 -0.37359359  0.1456614  -0.46686236  0.00202867\n",
      " -0.17877932 -0.496783    0.3570009   0.08847186  0.19475274  0.24698302\n",
      "  0.29885867  0.23573051  0.10827828  0.19124354  0.34294965  0.10214302\n",
      " -0.22823618 -0.12148612 -0.40608095  0.00347389  0.15174226  0.47993467\n",
      " -0.38731334 -0.07325307  0.38246946 -0.40117907  0.04153257  0.35594597\n",
      "  0.07360765  0.28875436  0.16438141 -0.18643733  0.28188576  0.29455461\n",
      "  0.3008054   0.00302046 -0.38305756 -0.3253497  -0.03707528 -0.44224535\n",
      " -0.12793951  0.19798845  0.11289151  0.47759612  0.20379661  0.35728829\n",
      " -0.4307453   0.04320534  0.22083947  0.44474319  0.32223661  0.22097587\n",
      "  0.15834498 -0.22166256 -0.32885793  0.45514496  0.44334762 -0.05258014\n",
      " -0.33700683  0.25913998 -0.20010166  0.18039559]\n"
     ]
    }
   ],
   "source": [
    "e = np.random.random((100,)) - 0.5\n",
    "print(e)"
   ]
  },
  {
   "cell_type": "code",
   "execution_count": 30,
   "metadata": {},
   "outputs": [
    {
     "ename": "IndentationError",
     "evalue": "expected an indented block (<ipython-input-30-9315921a9ec8>, line 8)",
     "output_type": "error",
     "traceback": [
      "\u001b[0;36m  File \u001b[0;32m\"<ipython-input-30-9315921a9ec8>\"\u001b[0;36m, line \u001b[0;32m8\u001b[0m\n\u001b[0;31m    a[0,i] = j\u001b[0m\n\u001b[0m    ^\u001b[0m\n\u001b[0;31mIndentationError\u001b[0m\u001b[0;31m:\u001b[0m expected an indented block\n"
     ]
    }
   ],
   "source": [
    "k = 100\n",
    "i = 0\n",
    "a = np.zeros([k,])\n",
    "\n",
    "np.random.randint(1, 2+1)- 1.5\n"
   ]
  },
  {
   "cell_type": "code",
   "execution_count": null,
   "metadata": {},
   "outputs": [],
   "source": []
  },
  {
   "cell_type": "code",
   "execution_count": null,
   "metadata": {},
   "outputs": [],
   "source": []
  }
 ],
 "metadata": {
  "kernelspec": {
   "display_name": "Python 3",
   "language": "python",
   "name": "python3"
  },
  "language_info": {
   "codemirror_mode": {
    "name": "ipython",
    "version": 3
   },
   "file_extension": ".py",
   "mimetype": "text/x-python",
   "name": "python",
   "nbconvert_exporter": "python",
   "pygments_lexer": "ipython3",
   "version": "3.8.1"
  }
 },
 "nbformat": 4,
 "nbformat_minor": 4
}
